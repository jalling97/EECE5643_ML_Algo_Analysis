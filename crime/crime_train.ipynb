{
 "cells": [
  {
   "cell_type": "markdown",
   "metadata": {},
   "source": [
    "Setting up the functions to perform the training and data recording"
   ]
  },
  {
   "cell_type": "code",
   "execution_count": 1,
   "metadata": {},
   "outputs": [
    {
     "data": {
      "text/html": [
       "<div>\n",
       "<style scoped>\n",
       "    .dataframe tbody tr th:only-of-type {\n",
       "        vertical-align: middle;\n",
       "    }\n",
       "\n",
       "    .dataframe tbody tr th {\n",
       "        vertical-align: top;\n",
       "    }\n",
       "\n",
       "    .dataframe thead th {\n",
       "        text-align: right;\n",
       "    }\n",
       "</style>\n",
       "<table border=\"1\" class=\"dataframe\">\n",
       "  <thead>\n",
       "    <tr style=\"text-align: right;\">\n",
       "      <th></th>\n",
       "      <th>Unnamed: 0</th>\n",
       "      <th>OFFENSE_CODE_GROUP</th>\n",
       "      <th>DISTRICT</th>\n",
       "      <th>REPORTING_AREA</th>\n",
       "      <th>SHOOTING</th>\n",
       "      <th>YEAR</th>\n",
       "      <th>MONTH</th>\n",
       "      <th>DAY_OF_WEEK</th>\n",
       "      <th>HOUR</th>\n",
       "      <th>Lat</th>\n",
       "      <th>Long</th>\n",
       "    </tr>\n",
       "  </thead>\n",
       "  <tbody>\n",
       "    <tr>\n",
       "      <th>0</th>\n",
       "      <td>0</td>\n",
       "      <td>1</td>\n",
       "      <td>1</td>\n",
       "      <td>1</td>\n",
       "      <td>1</td>\n",
       "      <td>2018</td>\n",
       "      <td>10</td>\n",
       "      <td>1</td>\n",
       "      <td>20</td>\n",
       "      <td>42.262608</td>\n",
       "      <td>-71.121186</td>\n",
       "    </tr>\n",
       "    <tr>\n",
       "      <th>1</th>\n",
       "      <td>1</td>\n",
       "      <td>2</td>\n",
       "      <td>2</td>\n",
       "      <td>2</td>\n",
       "      <td>1</td>\n",
       "      <td>2018</td>\n",
       "      <td>8</td>\n",
       "      <td>2</td>\n",
       "      <td>20</td>\n",
       "      <td>42.352111</td>\n",
       "      <td>-71.135311</td>\n",
       "    </tr>\n",
       "    <tr>\n",
       "      <th>2</th>\n",
       "      <td>2</td>\n",
       "      <td>3</td>\n",
       "      <td>3</td>\n",
       "      <td>3</td>\n",
       "      <td>1</td>\n",
       "      <td>2018</td>\n",
       "      <td>10</td>\n",
       "      <td>1</td>\n",
       "      <td>19</td>\n",
       "      <td>42.308126</td>\n",
       "      <td>-71.076930</td>\n",
       "    </tr>\n",
       "    <tr>\n",
       "      <th>3</th>\n",
       "      <td>3</td>\n",
       "      <td>4</td>\n",
       "      <td>4</td>\n",
       "      <td>4</td>\n",
       "      <td>1</td>\n",
       "      <td>2018</td>\n",
       "      <td>10</td>\n",
       "      <td>1</td>\n",
       "      <td>20</td>\n",
       "      <td>42.359454</td>\n",
       "      <td>-71.059648</td>\n",
       "    </tr>\n",
       "    <tr>\n",
       "      <th>4</th>\n",
       "      <td>4</td>\n",
       "      <td>5</td>\n",
       "      <td>5</td>\n",
       "      <td>5</td>\n",
       "      <td>1</td>\n",
       "      <td>2018</td>\n",
       "      <td>10</td>\n",
       "      <td>1</td>\n",
       "      <td>20</td>\n",
       "      <td>42.375258</td>\n",
       "      <td>-71.024663</td>\n",
       "    </tr>\n",
       "  </tbody>\n",
       "</table>\n",
       "</div>"
      ],
      "text/plain": [
       "   Unnamed: 0  OFFENSE_CODE_GROUP  DISTRICT  REPORTING_AREA  SHOOTING  YEAR  \\\n",
       "0           0                   1         1               1         1  2018   \n",
       "1           1                   2         2               2         1  2018   \n",
       "2           2                   3         3               3         1  2018   \n",
       "3           3                   4         4               4         1  2018   \n",
       "4           4                   5         5               5         1  2018   \n",
       "\n",
       "   MONTH  DAY_OF_WEEK  HOUR        Lat       Long  \n",
       "0     10            1    20  42.262608 -71.121186  \n",
       "1      8            2    20  42.352111 -71.135311  \n",
       "2     10            1    19  42.308126 -71.076930  \n",
       "3     10            1    20  42.359454 -71.059648  \n",
       "4     10            1    20  42.375258 -71.024663  "
      ]
     },
     "execution_count": 1,
     "metadata": {},
     "output_type": "execute_result"
    }
   ],
   "source": [
    "import pandas as pd\n",
    "import numpy as np\n",
    "import matplotlib.pyplot as plt\n",
    "from sklearn.model_selection import train_test_split\n",
    "from sklearn.svm import SVC\n",
    "from sklearn.neighbors import KNeighborsClassifier\n",
    "from sklearn.linear_model import LogisticRegression\n",
    "from sklearn.neural_network import MLPClassifier\n",
    "from sklearn.ensemble import RandomForestClassifier\n",
    "from time import time\n",
    "import warnings\n",
    "warnings.filterwarnings('ignore', category=FutureWarning)\n",
    "warnings.filterwarnings('ignore', category=DeprecationWarning)\n",
    "\n",
    "crime = pd.read_csv('crime_final.csv')\n",
    "crime.head()"
   ]
  },
  {
   "cell_type": "code",
   "execution_count": 2,
   "metadata": {},
   "outputs": [],
   "source": [
    "features = crime.drop('SHOOTING',axis=1)\n",
    "labels = crime['SHOOTING']\n",
    "\n",
    "#split features and labels into train (50%), test (25%), and validation (25%) sets\n",
    "#f for features\n",
    "#l for labels\n",
    "def split_features(features,labels):\n",
    "    f_train, f_test, l_train, l_test = train_test_split(features,labels, test_size=0.5,random_state=42)\n",
    "    f_val, f_test, l_val, l_test = train_test_split(f_test,l_test, test_size=0.5,random_state=42)\n",
    "    \n",
    "    return f_train, f_test, f_val, l_train, l_test, l_val"
   ]
  },
  {
   "cell_type": "code",
   "execution_count": 3,
   "metadata": {},
   "outputs": [],
   "source": [
    "def svm_trainer(features,labels,train_count):\n",
    "    svc = SVC()\n",
    "    train_times = []\n",
    "    for ii in range(train_count):\n",
    "        f_train,_,_,l_train,_,_ = split_features(features,labels)\n",
    "        t0 = time()\n",
    "        svc.fit(f_train,l_train)\n",
    "        t1 = time()\n",
    "        train_times.append(t1-t0)\n",
    "        \n",
    "        #print update\n",
    "        if ii % 10 == 0:\n",
    "            print('round %d' % (ii))\n",
    "            \n",
    "    return train_times\n",
    "\n",
    "#train_times = svm_trainer(features,labels,train_count=10)\n",
    "#print(\"done!\")"
   ]
  },
  {
   "cell_type": "code",
   "execution_count": 4,
   "metadata": {},
   "outputs": [],
   "source": [
    "def knn_trainer(features,labels,train_count):\n",
    "    knn = KNeighborsClassifier()\n",
    "    train_times = []\n",
    "    for ii in range(train_count):\n",
    "        f_train,_,_,l_train,_,_ = split_features(features,labels)\n",
    "        t0 = time()\n",
    "        knn.fit(f_train,l_train)\n",
    "        t1 = time()\n",
    "        train_times.append(t1-t0)\n",
    "        \n",
    "        #print update\n",
    "        if ii % 10 == 0:\n",
    "            print('round %d' % (ii))\n",
    "            \n",
    "    return train_times\n",
    "\n",
    "#train_times = knn_trainer(features,labels,train_count=10)\n",
    "#print(\"done!\")"
   ]
  },
  {
   "cell_type": "code",
   "execution_count": 5,
   "metadata": {},
   "outputs": [],
   "source": [
    "def logistic_regression_trainer(features,labels,train_count):\n",
    "    lr = LogisticRegression()\n",
    "    train_times = []\n",
    "    for ii in range(train_count):\n",
    "        f_train,_,_,l_train,_,_ = split_features(features,labels)\n",
    "        t0 = time()\n",
    "        lr.fit(f_train,l_train)\n",
    "        t1 = time()\n",
    "        train_times.append(t1-t0)\n",
    "        \n",
    "        #print update\n",
    "        if ii % 10 == 0:\n",
    "            print('round %d' % (ii))\n",
    "            \n",
    "    return train_times\n",
    "\n",
    "#train_times = logistic_regression_trainer(features,labels,train_count=10)\n",
    "#print(\"done!\")"
   ]
  },
  {
   "cell_type": "code",
   "execution_count": 6,
   "metadata": {},
   "outputs": [],
   "source": [
    "def multilayer_perceptron_trainer(features,labels,train_count):\n",
    "    MLP = MLPClassifier()\n",
    "    train_times = []\n",
    "    for ii in range(train_count):\n",
    "        f_train,_,_,l_train,_,_ = split_features(features,labels)\n",
    "        t0 = time()\n",
    "        MLP.fit(f_train,l_train)\n",
    "        t1 = time()\n",
    "        train_times.append(t1-t0)\n",
    "        \n",
    "        #print update\n",
    "        if ii % 10 == 0:\n",
    "            print('round %d' % (ii))\n",
    "            \n",
    "    return train_times\n",
    "\n",
    "#train_times = multilayer_perceptron_trainer(features,labels,train_count=10)\n",
    "#print(\"done!\")"
   ]
  },
  {
   "cell_type": "code",
   "execution_count": 7,
   "metadata": {},
   "outputs": [],
   "source": [
    "def random_forest_trainer(features,labels,train_count):\n",
    "    rf = RandomForestClassifier()\n",
    "    train_times = []\n",
    "    for ii in range(train_count):\n",
    "        f_train,_,_,l_train,_,_ = split_features(features,labels)\n",
    "        t0 = time()\n",
    "        rf.fit(f_train,l_train)\n",
    "        t1 = time()\n",
    "        train_times.append(t1-t0)\n",
    "        \n",
    "        #print update\n",
    "        if ii % 10 == 0:\n",
    "            print('round %d' % (ii))\n",
    "            \n",
    "    return train_times\n",
    "\n",
    "#train_times = random_forest_trainer(features,labels,train_count=10)\n",
    "#print(\"done!\")"
   ]
  },
  {
   "cell_type": "code",
   "execution_count": 13,
   "metadata": {},
   "outputs": [
    {
     "name": "stdout",
     "output_type": "stream",
     "text": [
      "round 0\n",
      "round 0\n",
      "round 0\n"
     ]
    }
   ],
   "source": [
    "train_iter = 10\n",
    "knn_times = knn_trainer(features,labels,train_count=train_iter)\n",
    "lr_times = logistic_regression_trainer(features,labels,train_count=train_iter)\n",
    "#svm_times = svm_trainer(features,labels,train_count=train_iter)\n",
    "rf_times = random_forest_trainer(features,labels,train_count=train_iter)\n",
    "#mlp_times = multilayer_perceptron_trainer(features,labels,train_count=train_iter)"
   ]
  },
  {
   "cell_type": "code",
   "execution_count": 14,
   "metadata": {},
   "outputs": [
    {
     "data": {
      "image/png": "[encoded data removed]",
      "text/plain": [
       "<Figure size 432x288 with 1 Axes>"
      ]
     },
     "metadata": {
      "needs_background": "light"
     },
     "output_type": "display_data"
    }
   ],
   "source": [
    "plt.scatter(range(len(knn_times)),knn_times)\n",
    "plt.scatter(range(len(lr_times)),lr_times)\n",
    "#plt.scatter(range(len(svm_times)),svm_times)\n",
    "plt.scatter(range(len(rf_times)),rf_times)\n",
    "plt.scatter(range(len(mlp_times)),mlp_times)\n",
    "plt.yscale('log')\n",
    "plt.show()"
   ]
  },
  {
   "cell_type": "code",
   "execution_count": null,
   "metadata": {},
   "outputs": [],
   "source": []
  }
 ],
 "metadata": {
  "kernelspec": {
   "display_name": "Python 3.5.2 64-bit",
   "language": "python",
   "name": "python35264bitfe733a0a6abe4f6faea0dd7487b23bcb"
  },
  "language_info": {
   "codemirror_mode": {
    "name": "ipython",
    "version": 3
   },
   "file_extension": ".py",
   "mimetype": "text/x-python",
   "name": "python",
   "nbconvert_exporter": "python",
   "pygments_lexer": "ipython3",
   "version": "3.5.2"
  }
 },
 "nbformat": 4,
 "nbformat_minor": 2
}

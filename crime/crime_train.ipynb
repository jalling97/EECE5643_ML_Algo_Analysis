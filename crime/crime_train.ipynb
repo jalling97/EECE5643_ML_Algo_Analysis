{
 "cells": [
  {
   "cell_type": "markdown",
   "metadata": {},
   "source": [
    "Setting up the functions to perform the training and data recording"
   ]
  },
  {
   "cell_type": "code",
   "execution_count": null,
   "metadata": {},
   "outputs": [],
   "source": [
    "import pandas as pd\n",
    "import numpy as np\n",
    "import matplotlib.pyplot as plt\n",
    "from sklearn.model_selection import train_test_split\n",
    "from sklearn.svm import SVC\n",
    "from sklearn.neighbors import KNeighborsClassifier\n",
    "from sklearn.linear_model import LogisticRegression\n",
    "from sklearn.neural_network import MLPClassifier\n",
    "from sklearn.ensemble import RandomForestClassifier\n",
    "from time import time\n",
    "import psutil\n",
    "import warnings\n",
    "import random\n",
    "warnings.filterwarnings('ignore', category=FutureWarning)\n",
    "warnings.filterwarnings('ignore', category=DeprecationWarning)\n",
    "\n",
    "crime = pd.read_csv('crime_final.csv')\n",
    "crime.head()"
   ]
  },
  {
   "cell_type": "code",
   "execution_count": null,
   "metadata": {},
   "outputs": [],
   "source": [
    "features = crime.drop('SHOOTING',axis=1)\n",
    "labels = crime['SHOOTING']\n",
    "\n",
    "#split features and labels into train (80%) and test (20%) sets\n",
    "#f for features\n",
    "#l for labels\n",
    "def split_features(features,labels):\n",
    "    f_train, f_test, l_train, l_test = train_test_split(features,labels, test_size=0.2,random_state=42)\n",
    "    #f_val, f_test, l_val, l_test = train_test_split(f_test,l_test, test_size=0.5,random_state=42)\n",
    "    \n",
    "    return f_train, f_test, l_train, l_test"
   ]
  },
  {
   "cell_type": "code",
   "execution_count": null,
   "metadata": {},
   "outputs": [],
   "source": [
    "def svm_trainer(features,labels,train_count):\n",
    "    svc = SVC()\n",
    "    train_times = []\n",
    "    for ii in range(train_count):\n",
    "        f_train,f_test,l_train,l_test = split_features(features,labels)\n",
    "        t0 = time()\n",
    "        svc.fit(f_train,l_train)\n",
    "        t1 = time()\n",
    "        train_times.append(t1-t0)\n",
    "        \n",
    "        #print update\n",
    "        if ii % 5 == 0:\n",
    "            print('round %d' % (ii))\n",
    "            \n",
    "    return svc, f_test, l_test, train_times\n",
    "\n",
    "#train_times = svm_trainer(features,labels,train_count=10)\n",
    "#print(\"done!\")"
   ]
  },
  {
   "cell_type": "code",
   "execution_count": null,
   "metadata": {},
   "outputs": [],
   "source": [
    "def knn_trainer(features,labels,train_count):\n",
    "    knn = KNeighborsClassifier()\n",
    "    train_times = []\n",
    "    for ii in range(train_count):\n",
    "        f_train,f_test,l_train,l_test = split_features(features,labels)\n",
    "        t0 = time()\n",
    "        knn.fit(f_train,l_train)\n",
    "        t1 = time()\n",
    "        train_times.append(t1-t0)\n",
    "        \n",
    "        #print update\n",
    "        if ii % 5 == 0:\n",
    "            print('round %d' % (ii))\n",
    "            \n",
    "    return knn, f_test, l_test, train_times\n",
    "\n",
    "#train_times = knn_trainer(features,labels,train_count=10)\n",
    "#print(\"done!\")"
   ]
  },
  {
   "cell_type": "code",
   "execution_count": null,
   "metadata": {},
   "outputs": [],
   "source": [
    "def logistic_regression_trainer(features,labels,train_count):\n",
    "    lr = LogisticRegression()\n",
    "    train_times = []\n",
    "    for ii in range(train_count):\n",
    "        f_train,f_test,l_train,l_test = split_features(features,labels)\n",
    "        t0 = time()\n",
    "        lr.fit(f_train,l_train)\n",
    "        t1 = time()\n",
    "        train_times.append(t1-t0)\n",
    "        \n",
    "        #print update\n",
    "        if ii % 5 == 0:\n",
    "            print('round %d' % (ii))\n",
    "            \n",
    "    return lr, f_test, l_test, train_times\n",
    "\n",
    "#train_times = logistic_regression_trainer(features,labels,train_count=10)\n",
    "#print(\"done!\")"
   ]
  },
  {
   "cell_type": "code",
   "execution_count": null,
   "metadata": {},
   "outputs": [],
   "source": [
    "def multilayer_perceptron_trainer(features,labels,train_count):\n",
    "    MLP = MLPClassifier()\n",
    "    train_times = []\n",
    "    for ii in range(train_count):\n",
    "        f_train,f_test,l_train,l_test = split_features(features,labels)\n",
    "        t0 = time()\n",
    "        MLP.fit(f_train,l_train)\n",
    "        t1 = time()\n",
    "        train_times.append(t1-t0)\n",
    "        \n",
    "        #print update\n",
    "        if ii % 5 == 0:\n",
    "            print('round %d' % (ii))\n",
    "            \n",
    "    return MLP, f_test, l_test, train_times\n",
    "\n",
    "#train_times = multilayer_perceptron_trainer(features,labels,train_count=10)\n",
    "#print(\"done!\")"
   ]
  },
  {
   "cell_type": "code",
   "execution_count": null,
   "metadata": {},
   "outputs": [],
   "source": [
    "def random_forest_trainer(features,labels,train_count):\n",
    "    rf = RandomForestClassifier()\n",
    "    train_times = []\n",
    "    for ii in range(train_count):\n",
    "        f_train,f_test,l_train,l_test = split_features(features,labels)\n",
    "        t0 = time()\n",
    "        rf.fit(f_train,l_train)\n",
    "        t1 = time()\n",
    "        train_times.append(t1-t0)\n",
    "        \n",
    "        #print update\n",
    "        if ii % 5 == 0:\n",
    "            print('round %d' % (ii))\n",
    "            \n",
    "    return rf, f_test, l_test, train_times\n",
    "\n",
    "#train_times = random_forest_trainer(features,labels,train_count=10)\n",
    "#print(\"done!\")"
   ]
  },
  {
   "cell_type": "code",
   "execution_count": null,
   "metadata": {},
   "outputs": [],
   "source": [
    "nom_util = psutil.cpu_percent(interval=1)\n",
    "KNN, knn_f_test, knn_l_test, knn_times = knn_trainer(features,labels,train_count=10)\n",
    "knn_util = psutil.cpu_percent(interval=None)\n",
    "LR, lr_f_test, lr_l_test, lr_times = logistic_regression_trainer(features,labels,train_count=10)\n",
    "lr_util = psutil.cpu_percent(interval=None)\n",
    "SVM, svm_f_test, svm_l_test, svm_times = svm_trainer(features,labels,train_count=10)\n",
    "svm_util = psutil.cpu_percent(interval=None)\n",
    "RF, rf_f_test, rf_l_test, rf_times = random_forest_trainer(features,labels,train_count=10)\n",
    "rf_util = psutil.cpu_percent(interval=None)\n",
    "MLP, mlp_f_test, mlp_l_test, mlp_times = multilayer_perceptron_trainer(features,labels,train_count=10)\n",
    "mlp_util = psutil.cpu_percent(interval=None)\n",
    "print('finished training!')"
   ]
  },
  {
   "cell_type": "code",
   "execution_count": null,
   "metadata": {},
   "outputs": [],
   "source": [
    "cpu_array = [nom_util, knn_util, lr_util, svm_util, rf_util, mlp_util]\n",
    "print(cpu_array)"
   ]
  },
  {
   "cell_type": "code",
   "execution_count": null,
   "metadata": {},
   "outputs": [],
   "source": [
    "plt.scatter(range(len(knn_times)),knn_times,label=\"KNN\")\n",
    "plt.scatter(range(len(lr_times)),lr_times,label=\"LR\")\n",
    "plt.scatter(range(len(svm_times)),svm_times,label='SVM')\n",
    "plt.scatter(range(len(rf_times)),rf_times,label='Random Forest')\n",
    "plt.scatter(range(len(mlp_times)),mlp_times,label='MLP')\n",
    "plt.title('Crime Dataset Training Times')\n",
    "plt.yscale('log')\n",
    "plt.xlabel('training iteration')\n",
    "plt.ylabel('seconds')\n",
    "plt.legend(loc='best')\n",
    "plt.savefig('crime_training_times_log.png')\n",
    "plt.show()"
   ]
  },
  {
   "cell_type": "code",
   "execution_count": null,
   "metadata": {},
   "outputs": [],
   "source": [
    "plt.figure(figsize=(8,5))\n",
    "plt.bar(range(len(cpu_array)), cpu_array)\n",
    "plt.title('Crime Training System-Wide CPU Utilization')\n",
    "plt.xticks(range(len(cpu_array)), ['Nominal','KNN','Logistic Regression','SVM','Random Forest','MLP'])\n",
    "plt.yticks([0,10,20,30,40,50,60,70,80,90,100])\n",
    "plt.ylabel('CPU Utilization (%)')\n",
    "plt.xlabel('Algorithm')\n",
    "plt.savefig('crime_training_cpu_utilization.png')\n",
    "plt.show()"
   ]
  },
  {
   "cell_type": "code",
   "execution_count": null,
   "metadata": {},
   "outputs": [],
   "source": [
    "cpu_df = pd.DataFrame(cpu_array)\n",
    "cpu_df.to_csv('crime_cpu.csv',index=False)"
   ]
  },
  {
   "cell_type": "code",
   "execution_count": null,
   "metadata": {},
   "outputs": [],
   "source": [
    "test_size = 500\n",
    "knn_test_list = [knn_f_test.iloc[random.randint(0,len(knn_f_test)-1)] for i in range(test_size)]\n",
    "lr_test_list = [lr_f_test.iloc[random.randint(0,len(lr_f_test)-1)] for i in range(test_size)]\n",
    "svm_test_list = [svm_f_test.iloc[random.randint(0,len(svm_f_test)-1)] for i in range(test_size)]\n",
    "rf_test_list = [rf_f_test.iloc[random.randint(0,len(rf_f_test)-1)] for i in range(test_size)]\n",
    "mlp_test_list = [mlp_f_test.iloc[random.randint(0,len(mlp_f_test)-1)] for i in range(test_size)]"
   ]
  },
  {
   "cell_type": "code",
   "execution_count": null,
   "metadata": {},
   "outputs": [],
   "source": [
    "t0 = time()\n",
    "KNN.predict(knn_test_list)\n",
    "t1 = time()\n",
    "LR.predict(lr_test_list)\n",
    "t2 = time()\n",
    "SVM.predict(svm_test_list)\n",
    "t3 = time()\n",
    "RF.predict(rf_test_list)\n",
    "t4 = time()\n",
    "MLP.predict(mlp_test_list)\n",
    "t5 = time()\n",
    "\n",
    "pred_time_list = [t1-t0, t2-t1, t3-t2, t4-t3, t5-t4]"
   ]
  },
  {
   "cell_type": "code",
   "execution_count": null,
   "metadata": {},
   "outputs": [],
   "source": [
    "plt.figure(figsize=(8,5))\n",
    "plt.bar(range(len(pred_time_list)), pred_time_list)\n",
    "plt.title('Crime Model Runtime (%d entries)' % (test_size))\n",
    "plt.xticks(range(len(cpu_array)), ['KNN','Logistic Regression','SVM','Random Forest','MLP'])\n",
    "plt.ylabel('Runtime (seconds)')\n",
    "plt.xlabel('Algorithm')\n",
    "plt.savefig('crime_model_runtime.png')\n",
    "plt.show()"
   ]
  },
  {
   "cell_type": "code",
   "execution_count": null,
   "metadata": {},
   "outputs": [],
   "source": [
    "runtime_df = pd.DataFrame(pred_time_list)\n",
    "runtime_df.to_csv('crime_runtime.csv',index=False)"
   ]
  }
 ],
 "metadata": {
  "kernelspec": {
   "display_name": "Python 3.5.2 64-bit",
   "language": "python",
   "name": "python35264bitfe733a0a6abe4f6faea0dd7487b23bcb"
  },
  "language_info": {
   "codemirror_mode": {
    "name": "ipython",
    "version": 3
   },
   "file_extension": ".py",
   "mimetype": "text/x-python",
   "name": "python",
   "nbconvert_exporter": "python",
   "pygments_lexer": "ipython3",
   "version": "3.5.2"
  }
 },
 "nbformat": 4,
 "nbformat_minor": 4
}

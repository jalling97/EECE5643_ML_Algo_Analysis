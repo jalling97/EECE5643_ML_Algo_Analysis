{
 "cells": [
  {
   "cell_type": "markdown",
   "metadata": {},
   "source": [
    "Setting up the functions to perform the training and data recording"
   ]
  },
  {
   "cell_type": "code",
   "execution_count": 32,
   "metadata": {},
   "outputs": [
    {
     "name": "stdout",
     "output_type": "stream",
     "text": [
      "<class 'pandas.core.frame.DataFrame'>\n",
      "RangeIndex: 305708 entries, 0 to 305707\n",
      "Data columns (total 11 columns):\n",
      "Unnamed: 0            305708 non-null int64\n",
      "OFFENSE_CODE_GROUP    305708 non-null int64\n",
      "DISTRICT              305708 non-null int64\n",
      "REPORTING_AREA        305708 non-null int64\n",
      "SHOOTING              305708 non-null int64\n",
      "YEAR                  305708 non-null int64\n",
      "MONTH                 305708 non-null int64\n",
      "DAY_OF_WEEK           305708 non-null int64\n",
      "HOUR                  305708 non-null int64\n",
      "Lat                   305708 non-null float64\n",
      "Long                  305708 non-null float64\n",
      "dtypes: float64(2), int64(9)\n",
      "memory usage: 25.7 MB\n"
     ]
    }
   ],
   "source": [
    "import pandas as pd\n",
    "import numpy as np\n",
    "import matplotlib.pyplot as plt\n",
    "from sklearn.model_selection import train_test_split\n",
    "from sklearn.svm import SVC\n",
    "from sklearn.neighbors import KNeighborsClassifier\n",
    "from sklearn.linear_model import LogisticRegression\n",
    "from sklearn.neural_network import MLPClassifier\n",
    "from sklearn.ensemble import RandomForestClassifier\n",
    "from time import time\n",
    "import tracemalloc\n",
    "import psutil\n",
    "import warnings\n",
    "import random\n",
    "warnings.filterwarnings('ignore', category=FutureWarning)\n",
    "warnings.filterwarnings('ignore', category=DeprecationWarning)\n",
    "\n",
    "crime = pd.read_csv('crime_final.csv')\n",
    "crime.info()"
   ]
  },
  {
   "cell_type": "code",
   "execution_count": 26,
   "metadata": {},
   "outputs": [
    {
     "data": {
      "text/plain": [
       "1    304690\n",
       "2      1018\n",
       "Name: SHOOTING, dtype: int64"
      ]
     },
     "execution_count": 26,
     "metadata": {},
     "output_type": "execute_result"
    }
   ],
   "source": [
    "crime['SHOOTING'].value_counts()"
   ]
  },
  {
   "cell_type": "code",
   "execution_count": 2,
   "metadata": {},
   "outputs": [],
   "source": [
    "features = crime.drop('SHOOTING',axis=1)\n",
    "labels = crime['SHOOTING']\n",
    "\n",
    "#split features and labels into train (80%) and test (20%) sets by default\n",
    "#f for features\n",
    "#l for labels\n",
    "def split_features(features,labels, t_size=0.2):\n",
    "    f_train, f_test, l_train, l_test = train_test_split(features,labels, test_size=t_size,random_state=42)\n",
    "    #f_val, f_test, l_val, l_test = train_test_split(f_test,l_test, test_size=0.5,random_state=42)\n",
    "    \n",
    "    return f_train, f_test, l_train, l_test"
   ]
  },
  {
   "cell_type": "code",
   "execution_count": 3,
   "metadata": {},
   "outputs": [],
   "source": [
    "def svm_trainer(features,labels,train_count):\n",
    "    svc = SVC()\n",
    "    train_times = []\n",
    "    for ii in range(train_count):\n",
    "        f_train,f_test,l_train,l_test = split_features(features,labels,t_size=0.75)\n",
    "        t0 = time()\n",
    "        svc.fit(f_train,l_train)\n",
    "        t1 = time()\n",
    "        train_times.append(t1-t0)\n",
    "        \n",
    "        #print update\n",
    "        if ii % 5 == 0:\n",
    "            print('round %d' % (ii))\n",
    "            \n",
    "    return svc, f_test, l_test, train_times\n",
    "\n",
    "#train_times = svm_trainer(features,labels,train_count=10)\n",
    "#print(\"done!\")"
   ]
  },
  {
   "cell_type": "code",
   "execution_count": 4,
   "metadata": {},
   "outputs": [],
   "source": [
    "def knn_trainer(features,labels,train_count):\n",
    "    knn = KNeighborsClassifier()\n",
    "    train_times = []\n",
    "    for ii in range(train_count):\n",
    "        f_train,f_test,l_train,l_test = split_features(features,labels,t_size=0.75)\n",
    "        t0 = time()\n",
    "        knn.fit(f_train,l_train)\n",
    "        t1 = time()\n",
    "        train_times.append(t1-t0)\n",
    "        \n",
    "        #print update\n",
    "        if ii % 5 == 0:\n",
    "            print('round %d' % (ii))\n",
    "            \n",
    "    return knn, f_test, l_test, train_times\n",
    "\n",
    "#train_times = knn_trainer(features,labels,train_count=10)\n",
    "#print(\"done!\")"
   ]
  },
  {
   "cell_type": "code",
   "execution_count": 5,
   "metadata": {},
   "outputs": [],
   "source": [
    "def logistic_regression_trainer(features,labels,train_count):\n",
    "    lr = LogisticRegression()\n",
    "    train_times = []\n",
    "    for ii in range(train_count):\n",
    "        f_train,f_test,l_train,l_test = split_features(features,labels,t_size=0.75)\n",
    "        t0 = time()\n",
    "        lr.fit(f_train,l_train)\n",
    "        t1 = time()\n",
    "        train_times.append(t1-t0)\n",
    "        \n",
    "        #print update\n",
    "        if ii % 5 == 0:\n",
    "            print('round %d' % (ii))\n",
    "            \n",
    "    return lr, f_test, l_test, train_times\n",
    "\n",
    "#train_times = logistic_regression_trainer(features,labels,train_count=10)\n",
    "#print(\"done!\")"
   ]
  },
  {
   "cell_type": "code",
   "execution_count": 6,
   "metadata": {},
   "outputs": [],
   "source": [
    "def multilayer_perceptron_trainer(features,labels,train_count):\n",
    "    MLP = MLPClassifier()\n",
    "    train_times = []\n",
    "    for ii in range(train_count):\n",
    "        f_train,f_test,l_train,l_test = split_features(features,labels,t_size=0.75)\n",
    "        t0 = time()\n",
    "        MLP.fit(f_train,l_train)\n",
    "        t1 = time()\n",
    "        train_times.append(t1-t0)\n",
    "        \n",
    "        #print update\n",
    "        if ii % 5 == 0:\n",
    "            print('round %d' % (ii))\n",
    "            \n",
    "    return MLP, f_test, l_test, train_times\n",
    "\n",
    "#train_times = multilayer_perceptron_trainer(features,labels,train_count=10)\n",
    "#print(\"done!\")"
   ]
  },
  {
   "cell_type": "code",
   "execution_count": 7,
   "metadata": {},
   "outputs": [],
   "source": [
    "def random_forest_trainer(features,labels,train_count):\n",
    "    rf = RandomForestClassifier()\n",
    "    train_times = []\n",
    "    for ii in range(train_count):\n",
    "        f_train,f_test,l_train,l_test = split_features(features,labels,t_size=0.75)\n",
    "        t0 = time()\n",
    "        rf.fit(f_train,l_train)\n",
    "        t1 = time()\n",
    "        train_times.append(t1-t0)\n",
    "        \n",
    "        #print update\n",
    "        if ii % 5 == 0:\n",
    "            print('round %d' % (ii))\n",
    "            \n",
    "    return rf, f_test, l_test, train_times\n",
    "\n",
    "#train_times = random_forest_trainer(features,labels,train_count=10)\n",
    "#print(\"done!\")"
   ]
  },
  {
   "cell_type": "code",
   "execution_count": 8,
   "metadata": {},
   "outputs": [
    {
     "name": "stdout",
     "output_type": "stream",
     "text": [
      "round 0\n",
      "round 5\n",
      "round 0\n",
      "round 5\n",
      "round 0\n",
      "round 5\n",
      "round 0\n",
      "round 5\n"
     ]
    },
    {
     "name": "stderr",
     "output_type": "stream",
     "text": [
      "/usr/local/lib/python3.5/dist-packages/sklearn/neural_network/multilayer_perceptron.py:566: ConvergenceWarning: Stochastic Optimizer: Maximum iterations (200) reached and the optimization hasn't converged yet.\n",
      "  % self.max_iter, ConvergenceWarning)\n"
     ]
    },
    {
     "name": "stdout",
     "output_type": "stream",
     "text": [
      "round 0\n"
     ]
    },
    {
     "name": "stderr",
     "output_type": "stream",
     "text": [
      "/usr/local/lib/python3.5/dist-packages/sklearn/neural_network/multilayer_perceptron.py:566: ConvergenceWarning: Stochastic Optimizer: Maximum iterations (200) reached and the optimization hasn't converged yet.\n",
      "  % self.max_iter, ConvergenceWarning)\n",
      "/usr/local/lib/python3.5/dist-packages/sklearn/neural_network/multilayer_perceptron.py:566: ConvergenceWarning: Stochastic Optimizer: Maximum iterations (200) reached and the optimization hasn't converged yet.\n",
      "  % self.max_iter, ConvergenceWarning)\n",
      "/usr/local/lib/python3.5/dist-packages/sklearn/neural_network/multilayer_perceptron.py:566: ConvergenceWarning: Stochastic Optimizer: Maximum iterations (200) reached and the optimization hasn't converged yet.\n",
      "  % self.max_iter, ConvergenceWarning)\n",
      "/usr/local/lib/python3.5/dist-packages/sklearn/neural_network/multilayer_perceptron.py:566: ConvergenceWarning: Stochastic Optimizer: Maximum iterations (200) reached and the optimization hasn't converged yet.\n",
      "  % self.max_iter, ConvergenceWarning)\n",
      "/usr/local/lib/python3.5/dist-packages/sklearn/neural_network/multilayer_perceptron.py:566: ConvergenceWarning: Stochastic Optimizer: Maximum iterations (200) reached and the optimization hasn't converged yet.\n",
      "  % self.max_iter, ConvergenceWarning)\n"
     ]
    },
    {
     "name": "stdout",
     "output_type": "stream",
     "text": [
      "round 5\n"
     ]
    },
    {
     "name": "stderr",
     "output_type": "stream",
     "text": [
      "/usr/local/lib/python3.5/dist-packages/sklearn/neural_network/multilayer_perceptron.py:566: ConvergenceWarning: Stochastic Optimizer: Maximum iterations (200) reached and the optimization hasn't converged yet.\n",
      "  % self.max_iter, ConvergenceWarning)\n",
      "/usr/local/lib/python3.5/dist-packages/sklearn/neural_network/multilayer_perceptron.py:566: ConvergenceWarning: Stochastic Optimizer: Maximum iterations (200) reached and the optimization hasn't converged yet.\n",
      "  % self.max_iter, ConvergenceWarning)\n",
      "/usr/local/lib/python3.5/dist-packages/sklearn/neural_network/multilayer_perceptron.py:566: ConvergenceWarning: Stochastic Optimizer: Maximum iterations (200) reached and the optimization hasn't converged yet.\n",
      "  % self.max_iter, ConvergenceWarning)\n"
     ]
    },
    {
     "name": "stdout",
     "output_type": "stream",
     "text": [
      "finished training!\n"
     ]
    },
    {
     "name": "stderr",
     "output_type": "stream",
     "text": [
      "/usr/local/lib/python3.5/dist-packages/sklearn/neural_network/multilayer_perceptron.py:566: ConvergenceWarning: Stochastic Optimizer: Maximum iterations (200) reached and the optimization hasn't converged yet.\n",
      "  % self.max_iter, ConvergenceWarning)\n"
     ]
    }
   ],
   "source": [
    "nom_util = psutil.cpu_percent(interval=1)\n",
    "KNN, knn_f_test, knn_l_test, knn_times = knn_trainer(features,labels,train_count=10)\n",
    "knn_util = psutil.cpu_percent(interval=None)\n",
    "LR, lr_f_test, lr_l_test, lr_times = logistic_regression_trainer(features,labels,train_count=10)\n",
    "lr_util = psutil.cpu_percent(interval=None)\n",
    "SVM, svm_f_test, svm_l_test, svm_times = svm_trainer(features,labels,train_count=10)\n",
    "svm_util = psutil.cpu_percent(interval=None)\n",
    "RF, rf_f_test, rf_l_test, rf_times = random_forest_trainer(features,labels,train_count=10)\n",
    "rf_util = psutil.cpu_percent(interval=None)\n",
    "MLP, mlp_f_test, mlp_l_test, mlp_times = multilayer_perceptron_trainer(features,labels,train_count=10)\n",
    "mlp_util = psutil.cpu_percent(interval=None)\n",
    "print('finished training!')"
   ]
  },
  {
   "cell_type": "code",
   "execution_count": 9,
   "metadata": {},
   "outputs": [
    {
     "name": "stdout",
     "output_type": "stream",
     "text": [
      "[1.5, 13.3, 13.2, 12.9, 13.0, 100.0]\n"
     ]
    }
   ],
   "source": [
    "cpu_array = [nom_util, knn_util, lr_util, svm_util, rf_util, mlp_util]\n",
    "print(cpu_array)"
   ]
  },
  {
   "cell_type": "code",
   "execution_count": 33,
   "metadata": {},
   "outputs": [
    {
     "name": "stdout",
     "output_type": "stream",
     "text": [
      "round 0\n",
      "round 0\n",
      "round 0\n",
      "round 0\n",
      "round 0\n",
      "finished training!\n"
     ]
    },
    {
     "name": "stderr",
     "output_type": "stream",
     "text": [
      "/usr/local/lib/python3.5/dist-packages/sklearn/neural_network/multilayer_perceptron.py:566: ConvergenceWarning: Stochastic Optimizer: Maximum iterations (200) reached and the optimization hasn't converged yet.\n",
      "  % self.max_iter, ConvergenceWarning)\n"
     ]
    }
   ],
   "source": [
    "tracemalloc.start()\n",
    "\n",
    "KNN, knn_f_test, knn_l_test, knn_times = knn_trainer(features,labels,train_count=1)\n",
    "knn_current, knn_peak = tracemalloc.get_traced_memory()\n",
    "tracemalloc.stop()\n",
    "\n",
    "tracemalloc.start()\n",
    "LR, lr_f_test, lr_l_test, lr_times = logistic_regression_trainer(features,labels,train_count=1)\n",
    "lr_current, lr_peak = tracemalloc.get_traced_memory()\n",
    "tracemalloc.stop()\n",
    "\n",
    "tracemalloc.start()\n",
    "SVM, svm_f_test, svm_l_test, svm_times = svm_trainer(features,labels,train_count=1)\n",
    "svm_current, svm_peak = tracemalloc.get_traced_memory()\n",
    "tracemalloc.stop()\n",
    "\n",
    "tracemalloc.start()\n",
    "RF, rf_f_test, rf_l_test, rf_times = random_forest_trainer(features,labels,train_count=1)\n",
    "rf_current, rf_peak = tracemalloc.get_traced_memory()\n",
    "tracemalloc.stop()\n",
    "\n",
    "tracemalloc.start()\n",
    "MLP, mlp_f_test, mlp_l_test, mlp_times = multilayer_perceptron_trainer(features,labels,train_count=1)\n",
    "mlp_current, mlp_peak = tracemalloc.get_traced_memory()\n",
    "tracemalloc.stop()\n",
    "\n",
    "print('finished training!')"
   ]
  },
  {
   "cell_type": "code",
   "execution_count": 35,
   "metadata": {},
   "outputs": [
    {
     "name": "stdout",
     "output_type": "stream",
     "text": [
      "[12375, 8341, 9633, 20799, 17317]\n",
      "[28755, 24721, 26461, 95886, 155412]\n"
     ]
    }
   ],
   "source": [
    "current_list = [knn_current, lr_current, svm_current, rf_current, mlp_current]\n",
    "peak_list = [knn_peak, lr_peak, svm_peak, rf_peak, mlp_peak]\n",
    "\n",
    "print(current_list)\n",
    "print(peak_list)"
   ]
  },
  {
   "cell_type": "code",
   "execution_count": 36,
   "metadata": {},
   "outputs": [],
   "source": [
    "mem_df = pd.DataFrame(peak_list)\n",
    "mem_df.to_csv('crime_peak_mem.csv',index=False)"
   ]
  },
  {
   "cell_type": "code",
   "execution_count": 10,
   "metadata": {},
   "outputs": [
    {
     "data": {
      "image/png": "[encoded data removed]",
      "text/plain": [
       "<Figure size 432x288 with 1 Axes>"
      ]
     },
     "metadata": {
      "needs_background": "light"
     },
     "output_type": "display_data"
    }
   ],
   "source": [
    "plt.scatter(range(len(knn_times)),knn_times,label=\"KNN\")\n",
    "plt.scatter(range(len(lr_times)),lr_times,label=\"LR\")\n",
    "plt.scatter(range(len(svm_times)),svm_times,label='SVM')\n",
    "plt.scatter(range(len(rf_times)),rf_times,label='Random Forest')\n",
    "plt.scatter(range(len(mlp_times)),mlp_times,label='MLP')\n",
    "plt.title('Crime Dataset Training Times')\n",
    "plt.yscale('log')\n",
    "plt.xlabel('training iteration')\n",
    "plt.ylabel('seconds')\n",
    "plt.legend(loc='best')\n",
    "plt.savefig('crime_training_times_log.png')\n",
    "plt.show()"
   ]
  },
  {
   "cell_type": "code",
   "execution_count": 11,
   "metadata": {},
   "outputs": [
    {
     "data": {
      "image/png": "[encoded data removed]",
      "text/plain": [
       "<Figure size 576x360 with 1 Axes>"
      ]
     },
     "metadata": {
      "needs_background": "light"
     },
     "output_type": "display_data"
    }
   ],
   "source": [
    "plt.figure(figsize=(8,5))\n",
    "plt.bar(range(len(cpu_array)), cpu_array)\n",
    "plt.title('Crime Training System-Wide CPU Utilization')\n",
    "plt.xticks(range(len(cpu_array)), ['Nominal','KNN','Logistic Regression','SVM','Random Forest','MLP'])\n",
    "plt.yticks([0,10,20,30,40,50,60,70,80,90,100])\n",
    "plt.ylabel('CPU Utilization (%)')\n",
    "plt.xlabel('Algorithm')\n",
    "plt.savefig('crime_training_cpu_utilization.png')\n",
    "plt.show()"
   ]
  },
  {
   "cell_type": "code",
   "execution_count": 12,
   "metadata": {},
   "outputs": [],
   "source": [
    "cpu_df = pd.DataFrame(cpu_array)\n",
    "cpu_df.to_csv('crime_cpu.csv',index=False)"
   ]
  },
  {
   "cell_type": "code",
   "execution_count": 13,
   "metadata": {},
   "outputs": [],
   "source": [
    "test_size = 500\n",
    "knn_test_list = [knn_f_test.iloc[random.randint(0,len(knn_f_test)-1)] for i in range(test_size)]\n",
    "lr_test_list = [lr_f_test.iloc[random.randint(0,len(lr_f_test)-1)] for i in range(test_size)]\n",
    "svm_test_list = [svm_f_test.iloc[random.randint(0,len(svm_f_test)-1)] for i in range(test_size)]\n",
    "rf_test_list = [rf_f_test.iloc[random.randint(0,len(rf_f_test)-1)] for i in range(test_size)]\n",
    "mlp_test_list = [mlp_f_test.iloc[random.randint(0,len(mlp_f_test)-1)] for i in range(test_size)]"
   ]
  },
  {
   "cell_type": "code",
   "execution_count": 27,
   "metadata": {},
   "outputs": [],
   "source": [
    "t0 = time()\n",
    "knn_pred_list = KNN.predict(knn_test_list)\n",
    "t1 = time()\n",
    "lr_pred_list = LR.predict(lr_test_list)\n",
    "t2 = time()\n",
    "svm_pred_list = SVM.predict(svm_test_list)\n",
    "t3 = time()\n",
    "rf_pred_list = RF.predict(rf_test_list)\n",
    "t4 = time()\n",
    "mlp_pred_list = MLP.predict(mlp_test_list)\n",
    "t5 = time()\n",
    "\n",
    "pred_time_list = [t1-t0, t2-t1, t3-t2, t4-t3, t5-t4]"
   ]
  },
  {
   "cell_type": "code",
   "execution_count": 15,
   "metadata": {},
   "outputs": [
    {
     "data": {
      "image/png": "[encoded data removed]",
      "text/plain": [
       "<Figure size 576x360 with 1 Axes>"
      ]
     },
     "metadata": {
      "needs_background": "light"
     },
     "output_type": "display_data"
    }
   ],
   "source": [
    "plt.figure(figsize=(8,5))\n",
    "plt.bar(range(len(pred_time_list)), pred_time_list)\n",
    "plt.title('Crime Model Runtime (%d entries)' % (test_size))\n",
    "plt.xticks(range(len(cpu_array)), ['KNN','Logistic Regression','SVM','Random Forest','MLP'])\n",
    "plt.ylabel('Runtime (seconds)')\n",
    "plt.xlabel('Algorithm')\n",
    "plt.savefig('crime_model_runtime.png')\n",
    "plt.show()"
   ]
  },
  {
   "cell_type": "code",
   "execution_count": 16,
   "metadata": {},
   "outputs": [],
   "source": [
    "runtime_df = pd.DataFrame(pred_time_list)\n",
    "runtime_df.to_csv('crime_runtime.csv',index=False)"
   ]
  },
  {
   "cell_type": "code",
   "execution_count": 17,
   "metadata": {},
   "outputs": [],
   "source": [
    "train_df = pd.DataFrame([np.mean(knn_times), np.mean(lr_times), np.mean(svm_times), np.mean(rf_times), np.mean(mlp_times)])\n",
    "train_df.to_csv('crime_train_times.csv',index=False)"
   ]
  },
  {
   "cell_type": "markdown",
   "metadata": {},
   "source": [
    "Run the predictions again; this time to get utilization"
   ]
  },
  {
   "cell_type": "code",
   "execution_count": 28,
   "metadata": {},
   "outputs": [],
   "source": [
    "def accuracy_measure(pred_list, test_list, l_test):\n",
    "    correct_count = 0\n",
    "    for ii in range(0,len(pred_list)):\n",
    "        pred = pred_list[ii]\n",
    "        label = l_test[test_list[ii].name]\n",
    "        if pred == label:\n",
    "            correct_count += 1\n",
    "    return correct_count/len(pred_list)\n",
    "        "
   ]
  },
  {
   "cell_type": "code",
   "execution_count": 30,
   "metadata": {},
   "outputs": [
    {
     "name": "stdout",
     "output_type": "stream",
     "text": [
      "[0.996, 0.996, 1.0, 0.998, 0.998]\n"
     ]
    }
   ],
   "source": [
    "accuracy_list = [accuracy_measure(knn_pred_list, knn_test_list, knn_l_test),\n",
    "                 accuracy_measure(lr_pred_list, lr_test_list, lr_l_test),\n",
    "                 accuracy_measure(svm_pred_list, svm_test_list, svm_l_test),\n",
    "                 accuracy_measure(rf_pred_list, rf_test_list, rf_l_test),\n",
    "                 accuracy_measure(mlp_pred_list, mlp_test_list, mlp_l_test)]\n",
    "print(accuracy_list)\n",
    "\n",
    "acc_df = pd.DataFrame(accuracy_list)\n",
    "acc_df.to_csv('crime_accuracy.csv',index=False)"
   ]
  },
  {
   "cell_type": "code",
   "execution_count": null,
   "metadata": {},
   "outputs": [],
   "source": []
  },
  {
   "cell_type": "code",
   "execution_count": null,
   "metadata": {},
   "outputs": [],
   "source": []
  }
 ],
 "metadata": {
  "kernelspec": {
   "display_name": "Python 3.5.2 64-bit",
   "language": "python",
   "name": "python35264bitfe733a0a6abe4f6faea0dd7487b23bcb"
  },
  "language_info": {
   "codemirror_mode": {
    "name": "ipython",
    "version": 3
   },
   "file_extension": ".py",
   "mimetype": "text/x-python",
   "name": "python",
   "nbconvert_exporter": "python",
   "pygments_lexer": "ipython3",
   "version": "3.5.2"
  }
 },
 "nbformat": 4,
 "nbformat_minor": 4
}

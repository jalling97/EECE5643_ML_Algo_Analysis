{
 "cells": [
  {
   "cell_type": "markdown",
   "metadata": {},
   "source": [
    "Setting up the functions to perform the training and data recording"
   ]
  },
  {
   "cell_type": "code",
   "execution_count": 1,
   "metadata": {},
   "outputs": [
    {
     "data": {
      "text/html": [
       "<div>\n",
       "<style scoped>\n",
       "    .dataframe tbody tr th:only-of-type {\n",
       "        vertical-align: middle;\n",
       "    }\n",
       "\n",
       "    .dataframe tbody tr th {\n",
       "        vertical-align: top;\n",
       "    }\n",
       "\n",
       "    .dataframe thead th {\n",
       "        text-align: right;\n",
       "    }\n",
       "</style>\n",
       "<table border=\"1\" class=\"dataframe\">\n",
       "  <thead>\n",
       "    <tr style=\"text-align: right;\">\n",
       "      <th></th>\n",
       "      <th>Unnamed: 0</th>\n",
       "      <th>age</th>\n",
       "      <th>workclass</th>\n",
       "      <th>fnlwgt</th>\n",
       "      <th>education-num</th>\n",
       "      <th>marital-status</th>\n",
       "      <th>occupation</th>\n",
       "      <th>relationship</th>\n",
       "      <th>race</th>\n",
       "      <th>sex</th>\n",
       "      <th>capital-gain</th>\n",
       "      <th>capital-loss</th>\n",
       "      <th>hours-per-week</th>\n",
       "      <th>native-country</th>\n",
       "      <th>income</th>\n",
       "    </tr>\n",
       "  </thead>\n",
       "  <tbody>\n",
       "    <tr>\n",
       "      <th>0</th>\n",
       "      <td>0</td>\n",
       "      <td>39</td>\n",
       "      <td>1</td>\n",
       "      <td>77516</td>\n",
       "      <td>13</td>\n",
       "      <td>1</td>\n",
       "      <td>1</td>\n",
       "      <td>1</td>\n",
       "      <td>1</td>\n",
       "      <td>1</td>\n",
       "      <td>2174</td>\n",
       "      <td>0</td>\n",
       "      <td>40</td>\n",
       "      <td>1</td>\n",
       "      <td>1</td>\n",
       "    </tr>\n",
       "    <tr>\n",
       "      <th>1</th>\n",
       "      <td>1</td>\n",
       "      <td>50</td>\n",
       "      <td>2</td>\n",
       "      <td>83311</td>\n",
       "      <td>13</td>\n",
       "      <td>2</td>\n",
       "      <td>2</td>\n",
       "      <td>2</td>\n",
       "      <td>1</td>\n",
       "      <td>1</td>\n",
       "      <td>0</td>\n",
       "      <td>0</td>\n",
       "      <td>13</td>\n",
       "      <td>1</td>\n",
       "      <td>1</td>\n",
       "    </tr>\n",
       "    <tr>\n",
       "      <th>2</th>\n",
       "      <td>2</td>\n",
       "      <td>38</td>\n",
       "      <td>3</td>\n",
       "      <td>215646</td>\n",
       "      <td>9</td>\n",
       "      <td>3</td>\n",
       "      <td>3</td>\n",
       "      <td>1</td>\n",
       "      <td>1</td>\n",
       "      <td>1</td>\n",
       "      <td>0</td>\n",
       "      <td>0</td>\n",
       "      <td>40</td>\n",
       "      <td>1</td>\n",
       "      <td>1</td>\n",
       "    </tr>\n",
       "    <tr>\n",
       "      <th>3</th>\n",
       "      <td>3</td>\n",
       "      <td>53</td>\n",
       "      <td>3</td>\n",
       "      <td>234721</td>\n",
       "      <td>7</td>\n",
       "      <td>2</td>\n",
       "      <td>3</td>\n",
       "      <td>2</td>\n",
       "      <td>2</td>\n",
       "      <td>1</td>\n",
       "      <td>0</td>\n",
       "      <td>0</td>\n",
       "      <td>40</td>\n",
       "      <td>1</td>\n",
       "      <td>1</td>\n",
       "    </tr>\n",
       "    <tr>\n",
       "      <th>4</th>\n",
       "      <td>4</td>\n",
       "      <td>28</td>\n",
       "      <td>3</td>\n",
       "      <td>338409</td>\n",
       "      <td>13</td>\n",
       "      <td>2</td>\n",
       "      <td>4</td>\n",
       "      <td>3</td>\n",
       "      <td>2</td>\n",
       "      <td>2</td>\n",
       "      <td>0</td>\n",
       "      <td>0</td>\n",
       "      <td>40</td>\n",
       "      <td>2</td>\n",
       "      <td>1</td>\n",
       "    </tr>\n",
       "  </tbody>\n",
       "</table>\n",
       "</div>"
      ],
      "text/plain": [
       "   Unnamed: 0  age  workclass  fnlwgt  education-num  marital-status  \\\n",
       "0           0   39          1   77516             13               1   \n",
       "1           1   50          2   83311             13               2   \n",
       "2           2   38          3  215646              9               3   \n",
       "3           3   53          3  234721              7               2   \n",
       "4           4   28          3  338409             13               2   \n",
       "\n",
       "   occupation  relationship  race  sex  capital-gain  capital-loss  \\\n",
       "0           1             1     1    1          2174             0   \n",
       "1           2             2     1    1             0             0   \n",
       "2           3             1     1    1             0             0   \n",
       "3           3             2     2    1             0             0   \n",
       "4           4             3     2    2             0             0   \n",
       "\n",
       "   hours-per-week  native-country  income  \n",
       "0              40               1       1  \n",
       "1              13               1       1  \n",
       "2              40               1       1  \n",
       "3              40               1       1  \n",
       "4              40               2       1  "
      ]
     },
     "execution_count": 1,
     "metadata": {},
     "output_type": "execute_result"
    }
   ],
   "source": [
    "import pandas as pd\n",
    "import numpy as np\n",
    "import matplotlib.pyplot as plt\n",
    "from sklearn.model_selection import train_test_split\n",
    "from sklearn.svm import SVC\n",
    "from sklearn.neighbors import KNeighborsClassifier\n",
    "from sklearn.linear_model import LogisticRegression\n",
    "from sklearn.neural_network import MLPClassifier\n",
    "from sklearn.ensemble import RandomForestClassifier\n",
    "from time import time\n",
    "import warnings\n",
    "warnings.filterwarnings('ignore', category=FutureWarning)\n",
    "warnings.filterwarnings('ignore', category=DeprecationWarning)\n",
    "\n",
    "income = pd.read_csv('income_final.csv')\n",
    "income.head()"
   ]
  },
  {
   "cell_type": "code",
   "execution_count": 2,
   "metadata": {},
   "outputs": [],
   "source": [
    "features = income.drop('income',axis=1)\n",
    "labels = income['income']\n",
    "\n",
    "#split features and labels into train (70%), test (15%), and validation (15%) sets\n",
    "#f for features\n",
    "#l for labels\n",
    "def split_features(features,labels):\n",
    "    f_train, f_test, l_train, l_test = train_test_split(features,labels, test_size=0.3,random_state=42)\n",
    "    f_val, f_test, l_val, l_test = train_test_split(f_test,l_test, test_size=0.5,random_state=42)\n",
    "    \n",
    "    return f_train, f_test, f_val, l_train, l_test, l_val"
   ]
  },
  {
   "cell_type": "code",
   "execution_count": 3,
   "metadata": {},
   "outputs": [],
   "source": [
    "def svm_trainer(features,labels,train_count):\n",
    "    svc = SVC()\n",
    "    train_times = []\n",
    "    for ii in range(train_count):\n",
    "        f_train,_,_,l_train,_,_ = split_features(features,labels)\n",
    "        t0 = time()\n",
    "        svc.fit(f_train,l_train)\n",
    "        t1 = time()\n",
    "        train_times.append(t1-t0)\n",
    "        \n",
    "        #print update\n",
    "        if ii % 10 == 0:\n",
    "            print('round %d' % (ii))\n",
    "            \n",
    "    return train_times\n",
    "\n",
    "#train_times = svm_trainer(features,labels,train_count=10)\n",
    "#print(\"done!\")"
   ]
  },
  {
   "cell_type": "code",
   "execution_count": 4,
   "metadata": {},
   "outputs": [],
   "source": [
    "def knn_trainer(features,labels,train_count):\n",
    "    knn = KNeighborsClassifier()\n",
    "    train_times = []\n",
    "    for ii in range(train_count):\n",
    "        f_train,_,_,l_train,_,_ = split_features(features,labels)\n",
    "        t0 = time()\n",
    "        knn.fit(f_train,l_train)\n",
    "        t1 = time()\n",
    "        train_times.append(t1-t0)\n",
    "        \n",
    "        #print update\n",
    "        if ii % 10 == 0:\n",
    "            print('round %d' % (ii))\n",
    "            \n",
    "    return train_times\n",
    "\n",
    "#train_times = knn_trainer(features,labels,train_count=10)\n",
    "#print(\"done!\")"
   ]
  },
  {
   "cell_type": "code",
   "execution_count": 5,
   "metadata": {},
   "outputs": [],
   "source": [
    "def logistic_regression_trainer(features,labels,train_count):\n",
    "    lr = LogisticRegression()\n",
    "    train_times = []\n",
    "    for ii in range(train_count):\n",
    "        f_train,_,_,l_train,_,_ = split_features(features,labels)\n",
    "        t0 = time()\n",
    "        lr.fit(f_train,l_train)\n",
    "        t1 = time()\n",
    "        train_times.append(t1-t0)\n",
    "        \n",
    "        #print update\n",
    "        if ii % 10 == 0:\n",
    "            print('round %d' % (ii))\n",
    "            \n",
    "    return train_times\n",
    "\n",
    "#train_times = logistic_regression_trainer(features,labels,train_count=10)\n",
    "#print(\"done!\")"
   ]
  },
  {
   "cell_type": "code",
   "execution_count": 6,
   "metadata": {},
   "outputs": [],
   "source": [
    "def multilayer_perceptron_trainer(features,labels,train_count):\n",
    "    MLP = MLPClassifier()\n",
    "    train_times = []\n",
    "    for ii in range(train_count):\n",
    "        f_train,_,_,l_train,_,_ = split_features(features,labels)\n",
    "        t0 = time()\n",
    "        MLP.fit(f_train,l_train)\n",
    "        t1 = time()\n",
    "        train_times.append(t1-t0)\n",
    "        \n",
    "        #print update\n",
    "        if ii % 10 == 0:\n",
    "            print('round %d' % (ii))\n",
    "            \n",
    "    return train_times\n",
    "\n",
    "#train_times = multilayer_perceptron_trainer(features,labels,train_count=10)\n",
    "#print(\"done!\")"
   ]
  },
  {
   "cell_type": "code",
   "execution_count": 7,
   "metadata": {},
   "outputs": [],
   "source": [
    "def random_forest_trainer(features,labels,train_count):\n",
    "    rf = RandomForestClassifier()\n",
    "    train_times = []\n",
    "    for ii in range(train_count):\n",
    "        f_train,_,_,l_train,_,_ = split_features(features,labels)\n",
    "        t0 = time()\n",
    "        rf.fit(f_train,l_train)\n",
    "        t1 = time()\n",
    "        train_times.append(t1-t0)\n",
    "        \n",
    "        #print update\n",
    "        if ii % 10 == 0:\n",
    "            print('round %d' % (ii))\n",
    "            \n",
    "    return train_times\n",
    "\n",
    "#train_times = random_forest_trainer(features,labels,train_count=10)\n",
    "#print(\"done!\")"
   ]
  },
  {
   "cell_type": "code",
   "execution_count": 8,
   "metadata": {},
   "outputs": [
    {
     "name": "stdout",
     "output_type": "stream",
     "text": [
      "round 0\n",
      "round 0\n",
      "round 0\n",
      "round 0\n"
     ]
    },
    {
     "name": "stderr",
     "output_type": "stream",
     "text": [
      "/usr/local/lib/python3.5/dist-packages/sklearn/neural_network/multilayer_perceptron.py:566: ConvergenceWarning: Stochastic Optimizer: Maximum iterations (200) reached and the optimization hasn't converged yet.\n",
      "  % self.max_iter, ConvergenceWarning)\n"
     ]
    },
    {
     "name": "stdout",
     "output_type": "stream",
     "text": [
      "round 0\n"
     ]
    },
    {
     "name": "stderr",
     "output_type": "stream",
     "text": [
      "/usr/local/lib/python3.5/dist-packages/sklearn/neural_network/multilayer_perceptron.py:566: ConvergenceWarning: Stochastic Optimizer: Maximum iterations (200) reached and the optimization hasn't converged yet.\n",
      "  % self.max_iter, ConvergenceWarning)\n",
      "/usr/local/lib/python3.5/dist-packages/sklearn/neural_network/multilayer_perceptron.py:566: ConvergenceWarning: Stochastic Optimizer: Maximum iterations (200) reached and the optimization hasn't converged yet.\n",
      "  % self.max_iter, ConvergenceWarning)\n",
      "/usr/local/lib/python3.5/dist-packages/sklearn/neural_network/multilayer_perceptron.py:566: ConvergenceWarning: Stochastic Optimizer: Maximum iterations (200) reached and the optimization hasn't converged yet.\n",
      "  % self.max_iter, ConvergenceWarning)\n",
      "/usr/local/lib/python3.5/dist-packages/sklearn/neural_network/multilayer_perceptron.py:566: ConvergenceWarning: Stochastic Optimizer: Maximum iterations (200) reached and the optimization hasn't converged yet.\n",
      "  % self.max_iter, ConvergenceWarning)\n"
     ]
    }
   ],
   "source": [
    "knn_times = knn_trainer(features,labels,train_count=10)\n",
    "lr_times = logistic_regression_trainer(features,labels,train_count=10)\n",
    "svm_times = svm_trainer(features,labels,train_count=5)\n",
    "rf_times = random_forest_trainer(features,labels,train_count=10)\n",
    "mlp_times = multilayer_perceptron_trainer(features,labels,train_count=5)"
   ]
  },
  {
   "cell_type": "code",
   "execution_count": 11,
   "metadata": {},
   "outputs": [
    {
     "data": {
      "image/png": "[encoded data removed]",
      "text/plain": [
       "<Figure size 432x288 with 1 Axes>"
      ]
     },
     "metadata": {
      "needs_background": "light"
     },
     "output_type": "display_data"
    }
   ],
   "source": [
    "plt.scatter(range(len(knn_times)),knn_times,label=\"KNN\")\n",
    "plt.scatter(range(len(lr_times)),lr_times,label=\"LR\")\n",
    "plt.scatter(range(len(svm_times)),svm_times,label='SVM')\n",
    "plt.scatter(range(len(rf_times)),rf_times,label='Random Forest')\n",
    "plt.scatter(range(len(mlp_times)),mlp_times,label='MLP')\n",
    "plt.title('Income Dataset Training Times')\n",
    "plt.yscale('log')\n",
    "plt.xlabel('training iteration')\n",
    "plt.ylabel('seconds')\n",
    "plt.legend(loc='best')\n",
    "plt.savefig('income_training_times_log.png')\n",
    "plt.show()"
   ]
  },
  {
   "cell_type": "code",
   "execution_count": null,
   "metadata": {},
   "outputs": [],
   "source": []
  }
 ],
 "metadata": {
  "kernelspec": {
   "display_name": "Python 3.5.2 64-bit",
   "language": "python",
   "name": "python35264bitfe733a0a6abe4f6faea0dd7487b23bcb"
  },
  "language_info": {
   "codemirror_mode": {
    "name": "ipython",
    "version": 3
   },
   "file_extension": ".py",
   "mimetype": "text/x-python",
   "name": "python",
   "nbconvert_exporter": "python",
   "pygments_lexer": "ipython3",
   "version": "3.5.2"
  }
 },
 "nbformat": 4,
 "nbformat_minor": 2
}
